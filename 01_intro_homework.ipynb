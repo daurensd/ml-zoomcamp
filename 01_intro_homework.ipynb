{
  "nbformat": 4,
  "nbformat_minor": 0,
  "metadata": {
    "colab": {
      "provenance": [],
      "authorship_tag": "ABX9TyM0jCeUVp0JnJvKD0kLIZxl",
      "include_colab_link": true
    },
    "kernelspec": {
      "name": "python3",
      "display_name": "Python 3"
    },
    "language_info": {
      "name": "python"
    }
  },
  "cells": [
    {
      "cell_type": "markdown",
      "metadata": {
        "id": "view-in-github",
        "colab_type": "text"
      },
      "source": [
        "<a href=\"https://colab.research.google.com/github/daurensd/ml-zoomcamp/blob/main/01_intro_homework.ipynb\" target=\"_parent\"><img src=\"https://colab.research.google.com/assets/colab-badge.svg\" alt=\"Open In Colab\"/></a>"
      ]
    },
    {
      "cell_type": "code",
      "execution_count": 2,
      "metadata": {
        "id": "T-1aEAzeUkas"
      },
      "outputs": [],
      "source": [
        "import pandas as pd\n",
        "import numpy as np"
      ]
    },
    {
      "cell_type": "code",
      "source": [
        "# Question_1\n",
        "pd.__version__"
      ],
      "metadata": {
        "colab": {
          "base_uri": "https://localhost:8080/",
          "height": 35
        },
        "id": "l8HsADbQJdy1",
        "outputId": "33bd34de-fbde-49ff-ce84-d41c20efbdb9"
      },
      "execution_count": 3,
      "outputs": [
        {
          "output_type": "execute_result",
          "data": {
            "text/plain": [
              "'1.5.3'"
            ],
            "application/vnd.google.colaboratory.intrinsic+json": {
              "type": "string"
            }
          },
          "metadata": {},
          "execution_count": 3
        }
      ]
    },
    {
      "cell_type": "code",
      "source": [
        "df = pd.read_csv('https://raw.githubusercontent.com/alexeygrigorev/datasets/master/housing.csv')"
      ],
      "metadata": {
        "id": "HB_WLe7oJlLc"
      },
      "execution_count": 30,
      "outputs": []
    },
    {
      "cell_type": "code",
      "source": [
        "# Question_2\n",
        "print('Number of columns:', len(df.columns))"
      ],
      "metadata": {
        "colab": {
          "base_uri": "https://localhost:8080/"
        },
        "id": "hs5Ca_jiJ_WG",
        "outputId": "c9aebe68-c7ab-4c4b-d909-f93ca7249be8"
      },
      "execution_count": 15,
      "outputs": [
        {
          "output_type": "stream",
          "name": "stdout",
          "text": [
            "Number of columns: 10\n"
          ]
        }
      ]
    },
    {
      "cell_type": "code",
      "source": [
        "# Question_3\n",
        "df.isna().sum()"
      ],
      "metadata": {
        "colab": {
          "base_uri": "https://localhost:8080/"
        },
        "id": "ES3ktJoIKwr9",
        "outputId": "5712c93e-bb4f-457e-c9f9-b54516d44c24"
      },
      "execution_count": 16,
      "outputs": [
        {
          "output_type": "execute_result",
          "data": {
            "text/plain": [
              "longitude               0\n",
              "latitude                0\n",
              "housing_median_age      0\n",
              "total_rooms             0\n",
              "total_bedrooms        207\n",
              "population              0\n",
              "households              0\n",
              "median_income           0\n",
              "median_house_value      0\n",
              "ocean_proximity         0\n",
              "dtype: int64"
            ]
          },
          "metadata": {},
          "execution_count": 16
        }
      ]
    },
    {
      "cell_type": "code",
      "source": [
        "# Question_4\n",
        "df.ocean_proximity.nunique()"
      ],
      "metadata": {
        "colab": {
          "base_uri": "https://localhost:8080/"
        },
        "id": "gxzeKoDSLGJi",
        "outputId": "165051d6-f0e1-4a3f-dd88-7f9b7c3f6b40"
      },
      "execution_count": 19,
      "outputs": [
        {
          "output_type": "execute_result",
          "data": {
            "text/plain": [
              "5"
            ]
          },
          "metadata": {},
          "execution_count": 19
        }
      ]
    },
    {
      "cell_type": "code",
      "source": [
        "# Question_5\n",
        "df[df.ocean_proximity == 'NEAR BAY'].median_house_value.mean()"
      ],
      "metadata": {
        "colab": {
          "base_uri": "https://localhost:8080/"
        },
        "id": "eelk4Cb-LGNH",
        "outputId": "fc5807d5-0348-4c13-e898-45365de70148"
      },
      "execution_count": 22,
      "outputs": [
        {
          "output_type": "execute_result",
          "data": {
            "text/plain": [
              "259212.31179039303"
            ]
          },
          "metadata": {},
          "execution_count": 22
        }
      ]
    },
    {
      "cell_type": "code",
      "source": [
        "# Question_6\n",
        "avg1 = df.total_bedrooms.mean()\n",
        "print('avg1 = ', avg1)\n",
        "df.total_bedrooms.fillna(avg1, inplace=True)\n",
        "avg2 = df.total_bedrooms.mean()\n",
        "print('avg2 = ', avg2)"
      ],
      "metadata": {
        "colab": {
          "base_uri": "https://localhost:8080/"
        },
        "id": "8ZkjcTZbL9--",
        "outputId": "22f66019-4405-4e68-de64-e438e7a82572"
      },
      "execution_count": 31,
      "outputs": [
        {
          "output_type": "stream",
          "name": "stdout",
          "text": [
            "avg1 =  537.8705525375618\n",
            "avg2 =  537.8705525375617\n"
          ]
        }
      ]
    },
    {
      "cell_type": "code",
      "source": [
        "# Question_7\n",
        "df_island = df[df.ocean_proximity == 'ISLAND']\n",
        "df_island[['housing_median_age', 'total_rooms', 'total_bedrooms']]\n",
        "X = np.array(df_island[['housing_median_age', 'total_rooms', 'total_bedrooms']])\n",
        "XTX = X.T.dot(X)\n",
        "XTX_inv = np.linalg.inv(XTX)\n",
        "y = np.array([950, 1300, 800, 1000, 1300])\n",
        "w = XTX_inv.dot(X.T).dot(y)\n",
        "w"
      ],
      "metadata": {
        "colab": {
          "base_uri": "https://localhost:8080/"
        },
        "id": "m1oi29U0MQF9",
        "outputId": "2192236b-fcbf-4d55-c315-388e47f8d541"
      },
      "execution_count": 50,
      "outputs": [
        {
          "output_type": "execute_result",
          "data": {
            "text/plain": [
              "array([23.12330961, -1.48124183,  5.69922946])"
            ]
          },
          "metadata": {},
          "execution_count": 50
        }
      ]
    }
  ]
}